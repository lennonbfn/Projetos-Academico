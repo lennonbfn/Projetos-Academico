{
  "nbformat": 4,
  "nbformat_minor": 0,
  "metadata": {
    "colab": {
      "name": "DRFS_1.ipynb",
      "provenance": []
    },
    "kernelspec": {
      "name": "python3",
      "display_name": "Python 3"
    },
    "language_info": {
      "name": "python"
    }
  },
  "cells": [
    {
      "cell_type": "markdown",
      "metadata": {
        "id": "ms9WFUHUfRlP"
      },
      "source": [
        "# 1.   Importar bibliotecas necessárias para implementação\n",
        "\n"
      ]
    },
    {
      "cell_type": "code",
      "metadata": {
        "id": "vSmC1C8_Ceds"
      },
      "source": [
        "\n",
        "from sklearn.datasets import load_iris\n",
        "from sklearn.model_selection import train_test_split\n",
        "from sklearn.naive_bayes import GaussianNB\n"
      ],
      "execution_count": null,
      "outputs": []
    },
    {
      "cell_type": "markdown",
      "metadata": {
        "id": "5VNIeRiAgeaT"
      },
      "source": [
        "# 2.   Importar base de dados e separação em amostras para teste e treino\n",
        "\n"
      ]
    },
    {
      "cell_type": "code",
      "metadata": {
        "id": "exFb_1HzCjRG"
      },
      "source": [
        "X, y = load_iris(return_X_y=True)\n",
        "X_train, X_test, y_train, y_test = train_test_split(X, y, test_size=0.5, \n",
        "                                                    random_state=0)\n"
      ],
      "execution_count": null,
      "outputs": []
    },
    {
      "cell_type": "markdown",
      "metadata": {
        "id": "AxtHe5wVgr-x"
      },
      "source": [
        "# 3.   Treinamento e realização de predições do modelo\n",
        "\n"
      ]
    },
    {
      "cell_type": "code",
      "metadata": {
        "id": "yzVyXdOjClzR"
      },
      "source": [
        "gnb = GaussianNB()\n",
        "y_pred = gnb.fit(X_train, y_train).predict(X_test)\n"
      ],
      "execution_count": null,
      "outputs": []
    },
    {
      "cell_type": "markdown",
      "metadata": {
        "id": "XzeN9B9Lv6I9"
      },
      "source": [
        "# 4. Cálculo de acurácia"
      ]
    },
    {
      "cell_type": "code",
      "metadata": {
        "colab": {
          "base_uri": "https://localhost:8080/"
        },
        "id": "NNrx8QqZCoPl",
        "outputId": "80dcac8d-f701-4bfb-d26f-75fbb74a4564"
      },
      "source": [
        "print(\"De um total de %d classificações, resultou em %d classificações erradas.\"\n",
        "      % (X_test.shape[0], (y_test != y_pred).sum()))"
      ],
      "execution_count": null,
      "outputs": [
        {
          "output_type": "stream",
          "text": [
            "De um total de 75 classificações, resultou em 4 classificações erradas.\n"
          ],
          "name": "stdout"
        }
      ]
    },
    {
      "cell_type": "code",
      "metadata": {
        "id": "8gX1OsZFCy8C",
        "colab": {
          "base_uri": "https://localhost:8080/"
        },
        "outputId": "f11e018d-8131-4384-8529-def0ba8b7f37"
      },
      "source": [
        "acuracia = (X_test.shape[0]-((y_test != y_pred).sum()))/(X_test.shape[0])\n",
        "acuracia = round(acuracia*100,2)\n",
        "print(\"Acurácia obtida:\", acuracia, \"%\")"
      ],
      "execution_count": null,
      "outputs": [
        {
          "output_type": "stream",
          "text": [
            "Acurácia obtida: 94.67 %\n"
          ],
          "name": "stdout"
        }
      ]
    },
    {
      "cell_type": "code",
      "metadata": {
        "id": "QEx1iqpfezzq"
      },
      "source": [
        ""
      ],
      "execution_count": null,
      "outputs": []
    }
  ]
}